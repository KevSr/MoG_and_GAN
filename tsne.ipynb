{
  "nbformat": 4,
  "nbformat_minor": 0,
  "metadata": {
    "language_info": {
      "codemirror_mode": {
        "name": "ipython",
        "version": 3
      },
      "file_extension": ".py",
      "mimetype": "text/x-python",
      "name": "python",
      "nbconvert_exporter": "python",
      "pygments_lexer": "ipython3",
      "version": "3.7.5-final"
    },
    "orig_nbformat": 2,
    "kernelspec": {
      "name": "python37564bit99586cab773f456f807f10776d3a572a",
      "display_name": "Python 3.7.5 64-bit"
    },
    "colab": {
      "name": "tsne.ipynb",
      "provenance": []
    }
  },
  "cells": [
    {
      "cell_type": "code",
      "metadata": {
        "id": "uSN_bD69j0B5",
        "outputId": "2c1429fe-e87d-436e-aad4-ad5edf8c41b1",
        "colab": {
          "base_uri": "https://localhost:8080/",
          "height": 102
        }
      },
      "source": [
        "!pip install pandas"
      ],
      "execution_count": null,
      "outputs": [
        {
          "output_type": "stream",
          "text": [
            "Requirement already satisfied: pandas in /usr/local/lib/python3.6/dist-packages (1.0.5)\n",
            "Requirement already satisfied: pytz>=2017.2 in /usr/local/lib/python3.6/dist-packages (from pandas) (2018.9)\n",
            "Requirement already satisfied: numpy>=1.13.3 in /usr/local/lib/python3.6/dist-packages (from pandas) (1.18.5)\n",
            "Requirement already satisfied: python-dateutil>=2.6.1 in /usr/local/lib/python3.6/dist-packages (from pandas) (2.8.1)\n",
            "Requirement already satisfied: six>=1.5 in /usr/local/lib/python3.6/dist-packages (from python-dateutil>=2.6.1->pandas) (1.12.0)\n"
          ],
          "name": "stdout"
        }
      ]
    },
    {
      "cell_type": "code",
      "metadata": {
        "id": "CUtfIvrfjMoc"
      },
      "source": [
        "from __future__ import print_function\n",
        "import time\n",
        "import numpy as np\n",
        "import pandas as pd\n",
        "from sklearn.manifold import TSNE\n",
        "import tensorflow as tf\n",
        "from PIL import Image, ImageFile\n",
        "import matplotlib.pyplot as plt\n",
        "from scipy import misc\n",
        "from mpl_toolkits.mplot3d import Axes3D\n",
        "import seaborn as sns\n",
        "import cv2, os\n",
        "import plotnine as pn\n",
        "\n",
        "from google.colab import drive\n",
        "\n",
        "\n",
        "# ImageFile.LOAD_TRUNCATED_IMAGES = True\n",
        "\n",
        "# PATH = os.path.join(os.path.dirname('/Users/kevin/Documents/ML Related/Dataset/'), 'KDEF')\n",
        "\n",
        "# os.chdir('/Users/kevin/Documents/ML Related/Dataset/')\n",
        "# #image = cv2.imread()\n",
        "# arr = os.listdir(PATH)\n",
        "\n",
        "# target = []\n",
        "# data = []\n",
        "\n",
        "# for k in range(len(arr)):\n",
        "#     arr1 = os.listdir(PATH + '/' + arr[k])\n",
        "#     for j in range(2):#len(arr1)):\n",
        "        \n",
        "#         # image = np.array(Image.open(PATH + '/' + arr[k] + '/' + arr1[j]).convert('L'))\n",
        "#         # image = image.rehsape(576,720)\n",
        "#         # image = image.flatten()\n",
        "#         # print(image.shape)\n",
        "#         # if data == []:\n",
        "#         #     data = image\n",
        "#         # else:\n",
        "#         #     data = np.vstack((data, image))\n",
        "#         # target = np.append(target,('KDEF_'+ arr[k]))\n",
        "# print(data.shape)\n",
        "# print(target.shape)\n",
        "\n"
      ],
      "execution_count": null,
      "outputs": []
    },
    {
      "cell_type": "code",
      "metadata": {
        "id": "OG5PjaOlj9vk",
        "outputId": "ebc8767b-ab4d-47dc-84ef-db6aa2c2769d",
        "colab": {
          "base_uri": "https://localhost:8080/",
          "height": 122
        }
      },
      "source": [
        "drive.mount('/content/drive/')"
      ],
      "execution_count": null,
      "outputs": [
        {
          "output_type": "stream",
          "text": [
            "Go to this URL in a browser: https://accounts.google.com/o/oauth2/auth?client_id=947318989803-6bn6qk8qdgf4n4g3pfee6491hc0brc4i.apps.googleusercontent.com&redirect_uri=urn%3aietf%3awg%3aoauth%3a2.0%3aoob&response_type=code&scope=email%20https%3a%2f%2fwww.googleapis.com%2fauth%2fdocs.test%20https%3a%2f%2fwww.googleapis.com%2fauth%2fdrive%20https%3a%2f%2fwww.googleapis.com%2fauth%2fdrive.photos.readonly%20https%3a%2f%2fwww.googleapis.com%2fauth%2fpeopleapi.readonly\n",
            "\n",
            "Enter your authorization code:\n",
            "··········\n",
            "Mounted at /content/drive/\n"
          ],
          "name": "stdout"
        }
      ]
    },
    {
      "cell_type": "code",
      "metadata": {
        "id": "ilmAEXeQjMoj",
        "outputId": "263bb1ca-f1f8-4c67-8a7a-0f015ab0d384",
        "colab": {
          "base_uri": "https://localhost:8080/",
          "height": 119
        }
      },
      "source": [
        "G_KDEF_data = np.load('/content/drive/My Drive/Colab Notebooks/tsne_data_RGB_KDEF.npy')\n",
        "G_KDEF_target = np.load('/content/drive/My Drive/Colab Notebooks/tsne_target_RGB_KDEF.npy')\n",
        "G_MMISEL_data = np.load('/content/drive/My Drive/Colab Notebooks/tsne_data_RGB_MMISEL.npy')\n",
        "G_MMISEL_target = np.load('/content/drive/My Drive/Colab Notebooks/tsne_target_RGB_MMISEL.npy')\n",
        "\n",
        "print(G_KDEF_data.shape, G_MMISEL_data.shape)\n",
        "print(np.amax(G_KDEF_data), np.amax(G_MMISEL_data))\n",
        "\n",
        "X = np.concatenate((G_KDEF_data,G_MMISEL_data))\n",
        "y = np.concatenate((G_KDEF_target,G_MMISEL_target))\n",
        "print(X.shape,y.shape)\n",
        "\n",
        "\n",
        "feat_cols = ['pixel'+str(i) for i in range(X.shape[1])]\n",
        "\n",
        "df = pd.DataFrame(X,columns=feat_cols)\n",
        "df['label'] = y\n",
        "df['label'] = df['label'].apply(lambda i: str(i))\n",
        "\n",
        "X, y = None, None\n",
        "\n",
        "print( 'Size of the dataframe: {}'.format(df.shape) )\n",
        "\n",
        "time_start = time.time()\n",
        "tsne = TSNE(n_iter=300)\n",
        "tsne_results = tsne.fit_transform(df.loc[:,feat_cols].values)\n",
        "\n",
        "print( 't-SNE done! Time elapsed: {} seconds'.format(time.time() - time_start))\n",
        "\n",
        "df_tsne = df.loc[:].copy()\n",
        "df_tsne['x-tsne'] = tsne_results[:,0]\n",
        "df_tsne['y-tsne'] = tsne_results[:,1]\n",
        "print(df_tsne['y-tsne'].shape)\n",
        "# \n",
        "# (\n",
        "# chart"
      ],
      "execution_count": null,
      "outputs": [
        {
          "output_type": "stream",
          "text": [
            "(2517, 46080) (801, 46080)\n",
            "255 255\n",
            "(3318, 46080) (3318,)\n",
            "Size of the dataframe: (3318, 46081)\n",
            "t-SNE done! Time elapsed: 1035.9935228824615 seconds\n",
            "(3318,)\n"
          ],
          "name": "stdout"
        }
      ]
    },
    {
      "cell_type": "code",
      "metadata": {
        "id": "X8KDg1y8jMop"
      },
      "source": [
        "%matplotlib inline\n",
        "pn.ggplot(df_tsne, pn.aes(x='x-tsne', y='y-tsne', z ='z-tsne', color='label'))  + pn.geom_point(size=3,alpha=1)  +  pn.ggtitle(\"KDEF and MMISEL datasets with tSNE applied\")"
      ],
      "execution_count": null,
      "outputs": []
    },
    {
      "cell_type": "code",
      "metadata": {
        "id": "Dy0djKJyjMot"
      },
      "source": [
        ""
      ],
      "execution_count": null,
      "outputs": []
    }
  ]
}